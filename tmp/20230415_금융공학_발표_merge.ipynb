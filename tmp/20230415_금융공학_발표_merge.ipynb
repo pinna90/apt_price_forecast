{
 "cells": [
  {
   "cell_type": "markdown",
   "id": "fd3ae8f6",
   "metadata": {},
   "source": [
    "# Import Library"
   ]
  },
  {
   "cell_type": "code",
   "execution_count": 1,
   "id": "c09fd256",
   "metadata": {},
   "outputs": [],
   "source": [
    "import pandas as pd\n",
    "import numpy as np"
   ]
  },
  {
   "cell_type": "code",
   "execution_count": 2,
   "id": "d800ccc3",
   "metadata": {},
   "outputs": [],
   "source": [
    "import matplotlib.pyplot as plt\n",
    "import matplotlib.dates as mdates"
   ]
  },
  {
   "cell_type": "code",
   "execution_count": 3,
   "id": "d7cec78d",
   "metadata": {},
   "outputs": [],
   "source": [
    "import seaborn as sns\n",
    "sns.set(rc={'figure.figsize':(11, 4)})\n",
    "plt.rcParams['font.family'] = 'AppleGothic'\n",
    "plt.rcParams['axes.unicode_minus'] = False"
   ]
  },
  {
   "cell_type": "code",
   "execution_count": 4,
   "id": "234d6656",
   "metadata": {},
   "outputs": [],
   "source": [
    "import warnings\n",
    "warnings.filterwarnings(action='ignore') "
   ]
  },
  {
   "cell_type": "markdown",
   "id": "9b9a6377",
   "metadata": {},
   "source": [
    "# Load Dataset"
   ]
  },
  {
   "cell_type": "markdown",
   "id": "3658e5eb",
   "metadata": {},
   "source": [
    "### 국토교통부 실거래가 공개시스템 제공-연간 아파트(전월세) 실거래가"
   ]
  },
  {
   "cell_type": "code",
   "execution_count": 5,
   "id": "d1350017",
   "metadata": {},
   "outputs": [],
   "source": [
    "df_1 = pd.read_excel('./2018_아파트(전월세)_실거래가.xlsx')\n",
    "df_2 = pd.read_excel('./2019_아파트(전월세)_실거래가.xlsx') \n",
    "df_3 = pd.read_excel('./2020_아파트(전월세)_실거래가.xlsx') \n",
    "df_4 = pd.read_excel('./2021_아파트(전월세)_실거래가.xlsx') \n",
    "df_5 = pd.read_excel('./2021_아파트(전월세)_실거래가.xlsx') "
   ]
  },
  {
   "cell_type": "markdown",
   "id": "bb78ef0c",
   "metadata": {},
   "source": [
    "### 2018-2022 연간 아파트(전월세) 실거래가 병합(Merge)"
   ]
  },
  {
   "cell_type": "code",
   "execution_count": 6,
   "id": "9285172f",
   "metadata": {},
   "outputs": [],
   "source": [
    "df_total = pd.concat([df_1, df_2, df_3, df_4, df_5])"
   ]
  },
  {
   "cell_type": "markdown",
   "id": "c5b1b022",
   "metadata": {},
   "source": [
    "### 전월세구분 Column에서 전세 Filtering 및 Index Initialization"
   ]
  },
  {
   "cell_type": "code",
   "execution_count": 7,
   "id": "6a36f684",
   "metadata": {},
   "outputs": [
    {
     "data": {
      "text/html": [
       "<div>\n",
       "<style scoped>\n",
       "    .dataframe tbody tr th:only-of-type {\n",
       "        vertical-align: middle;\n",
       "    }\n",
       "\n",
       "    .dataframe tbody tr th {\n",
       "        vertical-align: top;\n",
       "    }\n",
       "\n",
       "    .dataframe thead th {\n",
       "        text-align: right;\n",
       "    }\n",
       "</style>\n",
       "<table border=\"1\" class=\"dataframe\">\n",
       "  <thead>\n",
       "    <tr style=\"text-align: right;\">\n",
       "      <th></th>\n",
       "      <th>시군구</th>\n",
       "      <th>번지</th>\n",
       "      <th>본번</th>\n",
       "      <th>부번</th>\n",
       "      <th>단지명</th>\n",
       "      <th>전월세구분</th>\n",
       "      <th>전용면적(㎡)</th>\n",
       "      <th>계약년월</th>\n",
       "      <th>계약일</th>\n",
       "      <th>보증금(만원)</th>\n",
       "      <th>월세(만원)</th>\n",
       "      <th>층</th>\n",
       "      <th>건축년도</th>\n",
       "      <th>도로명</th>\n",
       "    </tr>\n",
       "  </thead>\n",
       "  <tbody>\n",
       "    <tr>\n",
       "      <th>0</th>\n",
       "      <td>서울특별시 강남구 개포동</td>\n",
       "      <td>655-2</td>\n",
       "      <td>655</td>\n",
       "      <td>2</td>\n",
       "      <td>개포2차현대아파트(220)</td>\n",
       "      <td>전세</td>\n",
       "      <td>77.75</td>\n",
       "      <td>201804</td>\n",
       "      <td>11</td>\n",
       "      <td>52,000</td>\n",
       "      <td>0</td>\n",
       "      <td>9</td>\n",
       "      <td>1988</td>\n",
       "      <td>언주로 103</td>\n",
       "    </tr>\n",
       "    <tr>\n",
       "      <th>1</th>\n",
       "      <td>서울특별시 강남구 개포동</td>\n",
       "      <td>655-2</td>\n",
       "      <td>655</td>\n",
       "      <td>2</td>\n",
       "      <td>개포2차현대아파트(220)</td>\n",
       "      <td>전세</td>\n",
       "      <td>77.75</td>\n",
       "      <td>201805</td>\n",
       "      <td>15</td>\n",
       "      <td>50,000</td>\n",
       "      <td>0</td>\n",
       "      <td>5</td>\n",
       "      <td>1988</td>\n",
       "      <td>언주로 103</td>\n",
       "    </tr>\n",
       "    <tr>\n",
       "      <th>2</th>\n",
       "      <td>서울특별시 강남구 개포동</td>\n",
       "      <td>655-2</td>\n",
       "      <td>655</td>\n",
       "      <td>2</td>\n",
       "      <td>개포2차현대아파트(220)</td>\n",
       "      <td>전세</td>\n",
       "      <td>77.75</td>\n",
       "      <td>201805</td>\n",
       "      <td>24</td>\n",
       "      <td>56,000</td>\n",
       "      <td>0</td>\n",
       "      <td>9</td>\n",
       "      <td>1988</td>\n",
       "      <td>언주로 103</td>\n",
       "    </tr>\n",
       "    <tr>\n",
       "      <th>3</th>\n",
       "      <td>서울특별시 강남구 개포동</td>\n",
       "      <td>655-2</td>\n",
       "      <td>655</td>\n",
       "      <td>2</td>\n",
       "      <td>개포2차현대아파트(220)</td>\n",
       "      <td>전세</td>\n",
       "      <td>77.75</td>\n",
       "      <td>201809</td>\n",
       "      <td>13</td>\n",
       "      <td>53,000</td>\n",
       "      <td>0</td>\n",
       "      <td>8</td>\n",
       "      <td>1988</td>\n",
       "      <td>언주로 103</td>\n",
       "    </tr>\n",
       "    <tr>\n",
       "      <th>4</th>\n",
       "      <td>서울특별시 강남구 개포동</td>\n",
       "      <td>655-2</td>\n",
       "      <td>655</td>\n",
       "      <td>2</td>\n",
       "      <td>개포2차현대아파트(220)</td>\n",
       "      <td>전세</td>\n",
       "      <td>77.75</td>\n",
       "      <td>201809</td>\n",
       "      <td>17</td>\n",
       "      <td>50,000</td>\n",
       "      <td>0</td>\n",
       "      <td>3</td>\n",
       "      <td>1988</td>\n",
       "      <td>언주로 103</td>\n",
       "    </tr>\n",
       "  </tbody>\n",
       "</table>\n",
       "</div>"
      ],
      "text/plain": [
       "             시군구     번지   본번  부번             단지명 전월세구분  전용면적(㎡)    계약년월  계약일  \\\n",
       "0  서울특별시 강남구 개포동  655-2  655   2  개포2차현대아파트(220)    전세    77.75  201804   11   \n",
       "1  서울특별시 강남구 개포동  655-2  655   2  개포2차현대아파트(220)    전세    77.75  201805   15   \n",
       "2  서울특별시 강남구 개포동  655-2  655   2  개포2차현대아파트(220)    전세    77.75  201805   24   \n",
       "3  서울특별시 강남구 개포동  655-2  655   2  개포2차현대아파트(220)    전세    77.75  201809   13   \n",
       "4  서울특별시 강남구 개포동  655-2  655   2  개포2차현대아파트(220)    전세    77.75  201809   17   \n",
       "\n",
       "          보증금(만원)          월세(만원)  층  건축년도      도로명  \n",
       "0          52,000               0  9  1988  언주로 103  \n",
       "1          50,000               0  5  1988  언주로 103  \n",
       "2          56,000               0  9  1988  언주로 103  \n",
       "3          53,000               0  8  1988  언주로 103  \n",
       "4          50,000               0  3  1988  언주로 103  "
      ]
     },
     "execution_count": 7,
     "metadata": {},
     "output_type": "execute_result"
    }
   ],
   "source": [
    "mask = df_total['전월세구분'] == '전세'\n",
    "df_total = df_total.loc[mask, :]\n",
    "df_total = df_total.reset_index(drop=True)\n",
    "df_total.head(5)"
   ]
  },
  {
   "cell_type": "code",
   "execution_count": 8,
   "id": "8d09f31a",
   "metadata": {},
   "outputs": [],
   "source": [
    "df_total = df_total.replace(',','', regex=True)\n",
    "df_total = df_total.replace('  ','', regex=True)\n",
    "df_total['보증금(만원)'] = df_total['보증금(만원)'].apply(pd.to_numeric,errors='coerce')\n",
    "df_total['전용면적(㎡)'] = df_total['전용면적(㎡)'].apply(pd.to_numeric,errors='coerce')"
   ]
  },
  {
   "cell_type": "markdown",
   "id": "26a801e4",
   "metadata": {},
   "source": [
    "### 단위 면적당 전세 가격 계산"
   ]
  },
  {
   "cell_type": "code",
   "execution_count": 9,
   "id": "1425b260",
   "metadata": {},
   "outputs": [],
   "source": [
    "df_total['단위면적당전세가'] = df_total['보증금(만원)'] / df_total['전용면적(㎡)']"
   ]
  },
  {
   "cell_type": "code",
   "execution_count": 10,
   "id": "631b1f48",
   "metadata": {
    "scrolled": true
   },
   "outputs": [
    {
     "data": {
      "text/html": [
       "<div>\n",
       "<style scoped>\n",
       "    .dataframe tbody tr th:only-of-type {\n",
       "        vertical-align: middle;\n",
       "    }\n",
       "\n",
       "    .dataframe tbody tr th {\n",
       "        vertical-align: top;\n",
       "    }\n",
       "\n",
       "    .dataframe thead th {\n",
       "        text-align: right;\n",
       "    }\n",
       "</style>\n",
       "<table border=\"1\" class=\"dataframe\">\n",
       "  <thead>\n",
       "    <tr style=\"text-align: right;\">\n",
       "      <th></th>\n",
       "      <th>시군구</th>\n",
       "      <th>번지</th>\n",
       "      <th>본번</th>\n",
       "      <th>부번</th>\n",
       "      <th>단지명</th>\n",
       "      <th>전월세구분</th>\n",
       "      <th>전용면적(㎡)</th>\n",
       "      <th>계약년월</th>\n",
       "      <th>계약일</th>\n",
       "      <th>보증금(만원)</th>\n",
       "      <th>월세(만원)</th>\n",
       "      <th>층</th>\n",
       "      <th>건축년도</th>\n",
       "      <th>도로명</th>\n",
       "      <th>단위면적당전세가</th>\n",
       "    </tr>\n",
       "  </thead>\n",
       "  <tbody>\n",
       "    <tr>\n",
       "      <th>0</th>\n",
       "      <td>서울특별시 강남구 개포동</td>\n",
       "      <td>655-2</td>\n",
       "      <td>655</td>\n",
       "      <td>2</td>\n",
       "      <td>개포2차현대아파트(220)</td>\n",
       "      <td>전세</td>\n",
       "      <td>77.75</td>\n",
       "      <td>201804</td>\n",
       "      <td>11</td>\n",
       "      <td>52000</td>\n",
       "      <td>0</td>\n",
       "      <td>9</td>\n",
       "      <td>1988</td>\n",
       "      <td>언주로 103</td>\n",
       "      <td>668.810289</td>\n",
       "    </tr>\n",
       "    <tr>\n",
       "      <th>1</th>\n",
       "      <td>서울특별시 강남구 개포동</td>\n",
       "      <td>655-2</td>\n",
       "      <td>655</td>\n",
       "      <td>2</td>\n",
       "      <td>개포2차현대아파트(220)</td>\n",
       "      <td>전세</td>\n",
       "      <td>77.75</td>\n",
       "      <td>201805</td>\n",
       "      <td>15</td>\n",
       "      <td>50000</td>\n",
       "      <td>0</td>\n",
       "      <td>5</td>\n",
       "      <td>1988</td>\n",
       "      <td>언주로 103</td>\n",
       "      <td>643.086817</td>\n",
       "    </tr>\n",
       "    <tr>\n",
       "      <th>2</th>\n",
       "      <td>서울특별시 강남구 개포동</td>\n",
       "      <td>655-2</td>\n",
       "      <td>655</td>\n",
       "      <td>2</td>\n",
       "      <td>개포2차현대아파트(220)</td>\n",
       "      <td>전세</td>\n",
       "      <td>77.75</td>\n",
       "      <td>201805</td>\n",
       "      <td>24</td>\n",
       "      <td>56000</td>\n",
       "      <td>0</td>\n",
       "      <td>9</td>\n",
       "      <td>1988</td>\n",
       "      <td>언주로 103</td>\n",
       "      <td>720.257235</td>\n",
       "    </tr>\n",
       "    <tr>\n",
       "      <th>3</th>\n",
       "      <td>서울특별시 강남구 개포동</td>\n",
       "      <td>655-2</td>\n",
       "      <td>655</td>\n",
       "      <td>2</td>\n",
       "      <td>개포2차현대아파트(220)</td>\n",
       "      <td>전세</td>\n",
       "      <td>77.75</td>\n",
       "      <td>201809</td>\n",
       "      <td>13</td>\n",
       "      <td>53000</td>\n",
       "      <td>0</td>\n",
       "      <td>8</td>\n",
       "      <td>1988</td>\n",
       "      <td>언주로 103</td>\n",
       "      <td>681.672026</td>\n",
       "    </tr>\n",
       "    <tr>\n",
       "      <th>4</th>\n",
       "      <td>서울특별시 강남구 개포동</td>\n",
       "      <td>655-2</td>\n",
       "      <td>655</td>\n",
       "      <td>2</td>\n",
       "      <td>개포2차현대아파트(220)</td>\n",
       "      <td>전세</td>\n",
       "      <td>77.75</td>\n",
       "      <td>201809</td>\n",
       "      <td>17</td>\n",
       "      <td>50000</td>\n",
       "      <td>0</td>\n",
       "      <td>3</td>\n",
       "      <td>1988</td>\n",
       "      <td>언주로 103</td>\n",
       "      <td>643.086817</td>\n",
       "    </tr>\n",
       "  </tbody>\n",
       "</table>\n",
       "</div>"
      ],
      "text/plain": [
       "             시군구     번지   본번  부번             단지명 전월세구분  전용면적(㎡)    계약년월  계약일  \\\n",
       "0  서울특별시 강남구 개포동  655-2  655   2  개포2차현대아파트(220)    전세    77.75  201804   11   \n",
       "1  서울특별시 강남구 개포동  655-2  655   2  개포2차현대아파트(220)    전세    77.75  201805   15   \n",
       "2  서울특별시 강남구 개포동  655-2  655   2  개포2차현대아파트(220)    전세    77.75  201805   24   \n",
       "3  서울특별시 강남구 개포동  655-2  655   2  개포2차현대아파트(220)    전세    77.75  201809   13   \n",
       "4  서울특별시 강남구 개포동  655-2  655   2  개포2차현대아파트(220)    전세    77.75  201809   17   \n",
       "\n",
       "   보증금(만원) 월세(만원)  층  건축년도      도로명    단위면적당전세가  \n",
       "0    52000      0  9  1988  언주로 103  668.810289  \n",
       "1    50000      0  5  1988  언주로 103  643.086817  \n",
       "2    56000      0  9  1988  언주로 103  720.257235  \n",
       "3    53000      0  8  1988  언주로 103  681.672026  \n",
       "4    50000      0  3  1988  언주로 103  643.086817  "
      ]
     },
     "execution_count": 10,
     "metadata": {},
     "output_type": "execute_result"
    }
   ],
   "source": [
    "df_total.head(5)"
   ]
  },
  {
   "cell_type": "code",
   "execution_count": 11,
   "id": "6bd081df",
   "metadata": {},
   "outputs": [
    {
     "data": {
      "text/plain": [
       "(53040, 15)"
      ]
     },
     "execution_count": 11,
     "metadata": {},
     "output_type": "execute_result"
    }
   ],
   "source": [
    "df_total.shape"
   ]
  },
  {
   "cell_type": "markdown",
   "id": "b6107563",
   "metadata": {},
   "source": [
    "### 월 평균 전세 보증금에 대한 시계열 그림"
   ]
  },
  {
   "cell_type": "code",
   "execution_count": 12,
   "id": "a3f5e359",
   "metadata": {},
   "outputs": [],
   "source": [
    "df_plot = df_total.groupby(['계약년월']).agg(mean_cost = ('단위면적당전세가', np.mean)).reset_index()"
   ]
  },
  {
   "cell_type": "code",
   "execution_count": 13,
   "id": "50eaca54",
   "metadata": {},
   "outputs": [],
   "source": [
    "df_plot['계약년월'] = pd.to_datetime(df_plot['계약년월'], format='%Y%m')"
   ]
  },
  {
   "cell_type": "code",
   "execution_count": 14,
   "id": "89ec6fae",
   "metadata": {},
   "outputs": [
    {
     "data": {
      "image/png": "[encoded data removed]",
      "text/plain": [
       "<Figure size 1100x400 with 1 Axes>"
      ]
     },
     "metadata": {},
     "output_type": "display_data"
    }
   ],
   "source": [
    "plt.plot(df_plot['계약년월'],df_plot['mean_cost'],marker='.', linestyle='-', linewidth=0.5)\n",
    "plt.gcf().autofmt_xdate\n",
    "plt.xlabel('Date')\n",
    "plt.ylabel('단위면적당전세가')\n",
    "plt.show()"
   ]
  },
  {
   "cell_type": "markdown",
   "id": "271c7108",
   "metadata": {},
   "source": [
    "### 전세 가격(반응변수)과 면적 당 전세 가격의 분포"
   ]
  },
  {
   "cell_type": "code",
   "execution_count": 15,
   "id": "47601022",
   "metadata": {},
   "outputs": [
    {
     "data": {
      "image/png": "[encoded data removed]",
      "text/plain": [
       "<Figure size 1100x400 with 1 Axes>"
      ]
     },
     "metadata": {},
     "output_type": "display_data"
    }
   ],
   "source": [
    "sns.distplot(df_total['보증금(만원)'])\n",
    "plt.show()"
   ]
  },
  {
   "cell_type": "code",
   "execution_count": 16,
   "id": "7ee7b54b",
   "metadata": {},
   "outputs": [
    {
     "data": {
      "image/png": "[encoded data removed]",
      "text/plain": [
       "<Figure size 1100x400 with 1 Axes>"
      ]
     },
     "metadata": {},
     "output_type": "display_data"
    }
   ],
   "source": [
    "sns.distplot(df_total['단위면적당전세가'])\n",
    "plt.show()"
   ]
  },
  {
   "cell_type": "markdown",
   "id": "95cbdc16",
   "metadata": {},
   "source": [
    "# 공공 데이터 포털 - API 연동"
   ]
  },
  {
   "cell_type": "code",
   "execution_count": 17,
   "id": "13b31d76",
   "metadata": {
    "scrolled": false
   },
   "outputs": [
    {
     "name": "stdout",
     "output_type": "stream",
     "text": [
      "<?xml version=\"1.0\" encoding=\"UTF-8\" standalone=\"yes\"?><response><header><resultCode>00</resultCode><resultMsg>NORMAL SERVICE.</resultMsg></header><body><item><codeClean>위탁관리</codeClean><codeDisinf>위탁관리</codeDisinf><codeEcon>기타</codeEcon><codeElev>위탁관리</codeElev><codeEmgr>상주선임</codeEmgr><codeFalarm>GR형</codeFalarm><codeGarbage>음식물쓰레기종량제</codeGarbage><codeMgr>위탁관리</codeMgr><codeNet>무</codeNet><codeSec>위탁관리</codeSec><codeStr>철근콘크리트구조</codeStr><codeWsupply>부스타방식</codeWsupply><convenientFacility>관공서(수서경찰서) 병원(삼성의료원) 백화점(롯데백화점,현대백화점) 공원(한마음공원)</convenientFacility><disposalType>분무식,독이식</disposalType><educationFacility>초등학교(대진,양천) 중학교(개원) 고등학교(경기여고)</educationFacility><kaptCcompany>에스더블유엠(주)</kaptCcompany><kaptCode>A13593908</kaptCode><kaptMgrCnt>9</kaptMgrCnt><kaptName>SH공사대치1단지</kaptName><kaptdCccnt>96</kaptdCccnt><kaptdClcnt>8</kaptdClcnt><kaptdDcnt>12</kaptdDcnt><kaptdEcapa>950</kaptdEcapa><kaptdEcnt>12</kaptdEcnt><kaptdPcnt>389</kaptdPcnt><kaptdPcntu>0</kaptdPcntu><kaptdScnt>15</kaptdScnt><kaptdSecCom>(주)경진이엔지</kaptdSecCom><kaptdWtimebus>5분이내</kaptdWtimebus><kaptdWtimesub>5분이내</kaptdWtimesub><subwayLine>3호선, 분당선, 경의중앙선</subwayLine><subwayStation>대모산</subwayStation><welfareFacility>관리사무소, 노인정, 유치원</welfareFacility></item></body></response>\n"
     ]
    }
   ],
   "source": [
    "import requests\n",
    "\n",
    "\n",
    "encoding = 'lIlqKHjraRXmeKaO7l0VyXhpIGx3wbe8gfPFrEiLt%2Bl7Ze57iOsdffcawVBm1yKjgOOmfyAnHg98VAwkk4kQQQ%3D%3D'\n",
    "decoding = 'lIlqKHjraRXmeKaO7l0VyXhpIGx3wbe8gfPFrEiLt+l7Ze57iOsdffcawVBm1yKjgOOmfyAnHg98VAwkk4kQQQ=='\n",
    "\n",
    "url = 'http://apis.data.go.kr/1613000/AptBasisInfoService1/getAphusDtlInfo'\n",
    "params ={'serviceKey' : decoding, 'kaptCode' : 'A13593908' }\n",
    "\n",
    "response = requests.get(url, params=params)\n",
    "content = response.text\n",
    "print(content)"
   ]
  },
  {
   "cell_type": "markdown",
   "id": "72a1fcda",
   "metadata": {},
   "source": [
    "### 국토교통부_공동주택 상세 정보조회"
   ]
  },
  {
   "cell_type": "code",
   "execution_count": 18,
   "id": "bec0f662",
   "metadata": {},
   "outputs": [
    {
     "name": "stdout",
     "output_type": "stream",
     "text": [
      "[<item><codeClean>위탁관리</codeClean><codeDisinf>위탁관리</codeDisinf><codeEcon>기타</codeEcon><codeElev>위탁관리</codeElev><codeEmgr>상주선임</codeEmgr><codeFalarm>GR형</codeFalarm><codeGarbage>음식물쓰레기종량제</codeGarbage><codeMgr>위탁관리</codeMgr><codeNet>무</codeNet><codeSec>위탁관리</codeSec><codeStr>철근콘크리트구조</codeStr><codeWsupply>부스타방식</codeWsupply><convenientFacility>관공서(수서경찰서) 병원(삼성의료원) 백화점(롯데백화점,현대백화점) 공원(한마음공원)</convenientFacility><disposalType>분무식,독이식</disposalType><educationFacility>초등학교(대진,양천) 중학교(개원) 고등학교(경기여고)</educationFacility><kaptCcompany>에스더블유엠(주)</kaptCcompany><kaptCode>A13593908</kaptCode><kaptMgrCnt>9</kaptMgrCnt><kaptName>SH공사대치1단지</kaptName><kaptdCccnt>96</kaptdCccnt><kaptdClcnt>8</kaptdClcnt><kaptdDcnt>12</kaptdDcnt><kaptdEcapa>950</kaptdEcapa><kaptdEcnt>12</kaptdEcnt><kaptdPcnt>389</kaptdPcnt><kaptdPcntu>0</kaptdPcntu><kaptdScnt>15</kaptdScnt><kaptdSecCom>(주)경진이엔지</kaptdSecCom><kaptdWtimebus>5분이내</kaptdWtimebus><kaptdWtimesub>5분이내</kaptdWtimesub><subwayLine>3호선, 분당선, 경의중앙선</subwayLine><subwayStation>대모산</subwayStation><welfareFacility>관리사무소, 노인정, 유치원</welfareFacility></item>]\n"
     ]
    }
   ],
   "source": [
    "from os import name\n",
    "import xml.etree.ElementTree as et\n",
    "import pandas as pd\n",
    "import bs4\n",
    "from lxml import html\n",
    "from urllib.parse import urlencode, quote_plus, unquote\n",
    "\n",
    "\"\"\"\n",
    "serviceKey: 서비스키\n",
    "kaptCode: 단지코드\n",
    "resultCode: 결과코드\n",
    "resultMsg: 결과메시지\n",
    "kaptCode: 단지코드\n",
    "kaptName: 단지명\n",
    "codeMgr: 일반관리방식\n",
    "kaptMgrCnt: 일반관리인원\n",
    "kaptCcompany: 일반관리 계약업체\n",
    "codeSec: 경비관리방식\n",
    "kaptdScnt: 경비관리인원\n",
    "kaptdSecCom: 경비관리 계약업체\n",
    "codeClean: 청소관리방식\n",
    "kaptdClcnt: 청소관리인원\n",
    "codeGarbage: 음식물처리방법\n",
    "codeDisinf: 소독관리방식\n",
    "kaptdDcnt: 소독관리 연간 소독횟수\n",
    "disposalType: 소독방법\n",
    "codeStr: 건물구조\n",
    "kaptdEcapa: 수전용량\n",
    "codeEcon: 세대전기계약방식\n",
    "codeEmgr: 전기안전관리자법정선임여부\n",
    "codeFalarm: 화재수신반방식\n",
    "codeWsupply: 급수방식\n",
    "codeElev: 승강기관리형태\n",
    "kaptdEcnt: 승강기대수\n",
    "kaptdPcnt: 주차대수(지상)\n",
    "kaptdPcntu: 주차대수(지하)\n",
    "codeNet: 주차관제.홈네트워크\n",
    "kaptdCccnt: CCTV대수\n",
    "welfareFacility: 부대.복리시설\n",
    "kaptdWtimebus: 버스정류장 거리\n",
    "subwayLine: 지하철호선\n",
    "subwayStation: 지하철역명\n",
    "kaptdWtimesub: 지하철역 거리\n",
    "convenientFacility: 편의시설\n",
    "educationFacility: 교육시설\n",
    "\n",
    "\"\"\" \n",
    "\n",
    "xml_obj = bs4.BeautifulSoup(content,'lxml-xml')\n",
    "rows = xml_obj.findAll('item')\n",
    "print(rows)"
   ]
  },
  {
   "cell_type": "code",
   "execution_count": 19,
   "id": "6e11d79c",
   "metadata": {},
   "outputs": [],
   "source": [
    "row_list = [] \n",
    "name_list = []\n",
    "value_list = [] \n",
    "\n",
    "for i in range(0, len(rows)):\n",
    "    columns = rows[i].find_all()\n",
    "    for j in range(0,len(columns)):\n",
    "        if i ==0:\n",
    "            name_list.append(columns[j].name)\n",
    "        value_list.append(columns[j].text)\n",
    "    row_list.append(value_list)\n",
    "    value_list=[]"
   ]
  },
  {
   "cell_type": "code",
   "execution_count": 20,
   "id": "281f7252",
   "metadata": {},
   "outputs": [
    {
     "data": {
      "text/html": [
       "<div>\n",
       "<style scoped>\n",
       "    .dataframe tbody tr th:only-of-type {\n",
       "        vertical-align: middle;\n",
       "    }\n",
       "\n",
       "    .dataframe tbody tr th {\n",
       "        vertical-align: top;\n",
       "    }\n",
       "\n",
       "    .dataframe thead th {\n",
       "        text-align: right;\n",
       "    }\n",
       "</style>\n",
       "<table border=\"1\" class=\"dataframe\">\n",
       "  <thead>\n",
       "    <tr style=\"text-align: right;\">\n",
       "      <th></th>\n",
       "      <th>codeClean</th>\n",
       "      <th>codeDisinf</th>\n",
       "      <th>codeEcon</th>\n",
       "      <th>codeElev</th>\n",
       "      <th>codeEmgr</th>\n",
       "      <th>codeFalarm</th>\n",
       "      <th>codeGarbage</th>\n",
       "      <th>codeMgr</th>\n",
       "      <th>codeNet</th>\n",
       "      <th>codeSec</th>\n",
       "      <th>...</th>\n",
       "      <th>kaptdEcnt</th>\n",
       "      <th>kaptdPcnt</th>\n",
       "      <th>kaptdPcntu</th>\n",
       "      <th>kaptdScnt</th>\n",
       "      <th>kaptdSecCom</th>\n",
       "      <th>kaptdWtimebus</th>\n",
       "      <th>kaptdWtimesub</th>\n",
       "      <th>subwayLine</th>\n",
       "      <th>subwayStation</th>\n",
       "      <th>welfareFacility</th>\n",
       "    </tr>\n",
       "  </thead>\n",
       "  <tbody>\n",
       "    <tr>\n",
       "      <th>0</th>\n",
       "      <td>위탁관리</td>\n",
       "      <td>위탁관리</td>\n",
       "      <td>기타</td>\n",
       "      <td>위탁관리</td>\n",
       "      <td>상주선임</td>\n",
       "      <td>GR형</td>\n",
       "      <td>음식물쓰레기종량제</td>\n",
       "      <td>위탁관리</td>\n",
       "      <td>무</td>\n",
       "      <td>위탁관리</td>\n",
       "      <td>...</td>\n",
       "      <td>12</td>\n",
       "      <td>389</td>\n",
       "      <td>0</td>\n",
       "      <td>15</td>\n",
       "      <td>(주)경진이엔지</td>\n",
       "      <td>5분이내</td>\n",
       "      <td>5분이내</td>\n",
       "      <td>3호선, 분당선, 경의중앙선</td>\n",
       "      <td>대모산</td>\n",
       "      <td>관리사무소, 노인정, 유치원</td>\n",
       "    </tr>\n",
       "  </tbody>\n",
       "</table>\n",
       "<p>1 rows × 33 columns</p>\n",
       "</div>"
      ],
      "text/plain": [
       "  codeClean codeDisinf codeEcon codeElev codeEmgr codeFalarm codeGarbage  \\\n",
       "0      위탁관리       위탁관리       기타     위탁관리     상주선임        GR형   음식물쓰레기종량제   \n",
       "\n",
       "  codeMgr codeNet codeSec  ... kaptdEcnt kaptdPcnt kaptdPcntu kaptdScnt  \\\n",
       "0    위탁관리       무    위탁관리  ...        12       389          0        15   \n",
       "\n",
       "  kaptdSecCom kaptdWtimebus kaptdWtimesub       subwayLine subwayStation  \\\n",
       "0    (주)경진이엔지          5분이내          5분이내  3호선, 분당선, 경의중앙선           대모산   \n",
       "\n",
       "   welfareFacility  \n",
       "0  관리사무소, 노인정, 유치원  \n",
       "\n",
       "[1 rows x 33 columns]"
      ]
     },
     "execution_count": 20,
     "metadata": {},
     "output_type": "execute_result"
    }
   ],
   "source": [
    "pd_apt_detail = pd.DataFrame(row_list, columns=name_list)\n",
    "pd_apt_detail"
   ]
  },
  {
   "cell_type": "code",
   "execution_count": 21,
   "id": "05218ced",
   "metadata": {},
   "outputs": [
    {
     "data": {
      "text/plain": [
       "Index(['codeClean', 'codeDisinf', 'codeEcon', 'codeElev', 'codeEmgr',\n",
       "       'codeFalarm', 'codeGarbage', 'codeMgr', 'codeNet', 'codeSec', 'codeStr',\n",
       "       'codeWsupply', 'convenientFacility', 'disposalType',\n",
       "       'educationFacility', 'kaptCcompany', 'kaptCode', 'kaptMgrCnt',\n",
       "       'kaptName', 'kaptdCccnt', 'kaptdClcnt', 'kaptdDcnt', 'kaptdEcapa',\n",
       "       'kaptdEcnt', 'kaptdPcnt', 'kaptdPcntu', 'kaptdScnt', 'kaptdSecCom',\n",
       "       'kaptdWtimebus', 'kaptdWtimesub', 'subwayLine', 'subwayStation',\n",
       "       'welfareFacility'],\n",
       "      dtype='object')"
      ]
     },
     "execution_count": 21,
     "metadata": {},
     "output_type": "execute_result"
    }
   ],
   "source": [
    "pd_apt_detail.columns"
   ]
  },
  {
   "cell_type": "code",
   "execution_count": 22,
   "id": "6e275e73",
   "metadata": {},
   "outputs": [
    {
     "data": {
      "text/html": [
       "<div>\n",
       "<style scoped>\n",
       "    .dataframe tbody tr th:only-of-type {\n",
       "        vertical-align: middle;\n",
       "    }\n",
       "\n",
       "    .dataframe tbody tr th {\n",
       "        vertical-align: top;\n",
       "    }\n",
       "\n",
       "    .dataframe thead th {\n",
       "        text-align: right;\n",
       "    }\n",
       "</style>\n",
       "<table border=\"1\" class=\"dataframe\">\n",
       "  <thead>\n",
       "    <tr style=\"text-align: right;\">\n",
       "      <th></th>\n",
       "      <th>kaptName</th>\n",
       "      <th>kaptMgrCnt</th>\n",
       "      <th>kaptCcompany</th>\n",
       "      <th>kaptCode</th>\n",
       "    </tr>\n",
       "  </thead>\n",
       "  <tbody>\n",
       "    <tr>\n",
       "      <th>0</th>\n",
       "      <td>SH공사대치1단지</td>\n",
       "      <td>9</td>\n",
       "      <td>에스더블유엠(주)</td>\n",
       "      <td>A13593908</td>\n",
       "    </tr>\n",
       "  </tbody>\n",
       "</table>\n",
       "</div>"
      ],
      "text/plain": [
       "    kaptName kaptMgrCnt kaptCcompany   kaptCode\n",
       "0  SH공사대치1단지          9    에스더블유엠(주)  A13593908"
      ]
     },
     "execution_count": 22,
     "metadata": {},
     "output_type": "execute_result"
    }
   ],
   "source": [
    "pd_apt_detail[{'kaptCode','kaptName','kaptMgrCnt','kaptCcompany'}]"
   ]
  },
  {
   "cell_type": "markdown",
   "id": "4c9e4109",
   "metadata": {},
   "source": [
    "## Merge"
   ]
  },
  {
   "cell_type": "code",
   "execution_count": 23,
   "id": "c35d10a4",
   "metadata": {},
   "outputs": [
    {
     "data": {
      "text/html": [
       "<div>\n",
       "<style scoped>\n",
       "    .dataframe tbody tr th:only-of-type {\n",
       "        vertical-align: middle;\n",
       "    }\n",
       "\n",
       "    .dataframe tbody tr th {\n",
       "        vertical-align: top;\n",
       "    }\n",
       "\n",
       "    .dataframe thead th {\n",
       "        text-align: right;\n",
       "    }\n",
       "</style>\n",
       "<table border=\"1\" class=\"dataframe\">\n",
       "  <thead>\n",
       "    <tr style=\"text-align: right;\">\n",
       "      <th></th>\n",
       "      <th>kaptName</th>\n",
       "      <th>kaptCode</th>\n",
       "    </tr>\n",
       "  </thead>\n",
       "  <tbody>\n",
       "    <tr>\n",
       "      <th>0</th>\n",
       "      <td>SH공사대치1단지</td>\n",
       "      <td>A13593908</td>\n",
       "    </tr>\n",
       "  </tbody>\n",
       "</table>\n",
       "</div>"
      ],
      "text/plain": [
       "    kaptName   kaptCode\n",
       "0  SH공사대치1단지  A13593908"
      ]
     },
     "execution_count": 23,
     "metadata": {},
     "output_type": "execute_result"
    }
   ],
   "source": [
    "pd_apt_detail[{'kaptCode','kaptName'}]"
   ]
  },
  {
   "cell_type": "code",
   "execution_count": null,
   "id": "9263ef58",
   "metadata": {},
   "outputs": [],
   "source": []
  },
  {
   "cell_type": "code",
   "execution_count": null,
   "id": "2f93ac76",
   "metadata": {},
   "outputs": [],
   "source": []
  },
  {
   "cell_type": "code",
   "execution_count": null,
   "id": "94fb2db0",
   "metadata": {},
   "outputs": [],
   "source": []
  },
  {
   "cell_type": "code",
   "execution_count": null,
   "id": "355b7fd5",
   "metadata": {},
   "outputs": [],
   "source": []
  },
  {
   "cell_type": "code",
   "execution_count": null,
   "id": "440bd305",
   "metadata": {},
   "outputs": [],
   "source": []
  },
  {
   "cell_type": "code",
   "execution_count": null,
   "id": "667e28aa",
   "metadata": {},
   "outputs": [],
   "source": []
  },
  {
   "cell_type": "code",
   "execution_count": null,
   "id": "6bc3249a",
   "metadata": {},
   "outputs": [],
   "source": [
    "df_total.head()"
   ]
  },
  {
   "cell_type": "code",
   "execution_count": null,
   "id": "49b9dfd8",
   "metadata": {},
   "outputs": [],
   "source": [
    "pd_apt_detail.kaptName"
   ]
  },
  {
   "cell_type": "code",
   "execution_count": null,
   "id": "d05fcee4",
   "metadata": {},
   "outputs": [],
   "source": [
    "df_total[['단지명','시군구','도로명']].sort_values(by=['단지명']).reset_index(drop=True)"
   ]
  },
  {
   "cell_type": "code",
   "execution_count": null,
   "id": "ae6eccde",
   "metadata": {},
   "outputs": [],
   "source": [
    "df_total[['단지명','시군구','도로명']].sort_values(by=['단지명']).reset_index(drop=True).drop_duplicates()"
   ]
  },
  {
   "cell_type": "code",
   "execution_count": null,
   "id": "1dfa36d4",
   "metadata": {},
   "outputs": [],
   "source": [
    "df_total[['단지명','시군구','도로명']].drop_duplicates()"
   ]
  },
  {
   "cell_type": "code",
   "execution_count": null,
   "id": "112c4e6c",
   "metadata": {},
   "outputs": [],
   "source": [
    "np.isin(pd_apt_detail.kaptName,df_total.단지명.unique())"
   ]
  },
  {
   "cell_type": "code",
   "execution_count": null,
   "id": "c2b0c14f",
   "metadata": {},
   "outputs": [],
   "source": [
    "df_total[df_total.단지명 == pd_apt_detail.kaptName]"
   ]
  }
 ],
 "metadata": {
  "kernelspec": {
   "display_name": "Python 3 (ipykernel)",
   "language": "python",
   "name": "python3"
  },
  "language_info": {
   "codemirror_mode": {
    "name": "ipython",
    "version": 3
   },
   "file_extension": ".py",
   "mimetype": "text/x-python",
   "name": "python",
   "nbconvert_exporter": "python",
   "pygments_lexer": "ipython3",
   "version": "3.9.13"
  }
 },
 "nbformat": 4,
 "nbformat_minor": 5
}
